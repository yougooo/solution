{
 "cells": [
  {
   "cell_type": "code",
   "execution_count": 1,
   "metadata": {
    "collapsed": true
   },
   "outputs": [],
   "source": [
    "import converter"
   ]
  },
  {
   "cell_type": "code",
   "execution_count": 2,
   "metadata": {
    "collapsed": true
   },
   "outputs": [],
   "source": [
    "show = converter.Converter()"
   ]
  },
  {
   "cell_type": "code",
   "execution_count": 8,
   "metadata": {
    "collapsed": false
   },
   "outputs": [
    {
     "name": "stdout",
     "output_type": "stream",
     "text": [
      "3 ==> III\n",
      "9 ==> IX\n",
      "18 ==> XVIII\n",
      "2016 ==> MMXVI\n"
     ]
    }
   ],
   "source": [
    "# test\n",
    "print '3 ==> {0}'.format(show.convert(3))\n",
    "print '9 ==> {0}'.format(show.convert(9))\n",
    "print '18 ==> {0}'.format(show.convert(18))\n",
    "print '2016 ==> {0}'.format(show.convert(2016))"
   ]
  },
  {
   "cell_type": "code",
   "execution_count": 6,
   "metadata": {
    "collapsed": false
   },
   "outputs": [
    {
     "name": "stdout",
     "output_type": "stream",
     "text": [
      "Your number out of range\n",
      "Your number out of range\n",
      "Your number out of range\n"
     ]
    }
   ],
   "source": [
    "# exceptions \n",
    "print show.convert(4000)\n",
    "print show.convert(0)\n",
    "print show.convert(8000)"
   ]
  },
  {
   "cell_type": "code",
   "execution_count": 9,
   "metadata": {
    "collapsed": false
   },
   "outputs": [
    {
     "name": "stdout",
     "output_type": "stream",
     "text": [
      "MMMCMXCIX\n",
      "I\n"
     ]
    }
   ],
   "source": [
    "#limit number\n",
    "print show.convert(3999)\n",
    "print show.convert(1)"
   ]
  }
 ],
 "metadata": {
  "kernelspec": {
   "display_name": "Python 2",
   "language": "python",
   "name": "python2"
  },
  "language_info": {
   "codemirror_mode": {
    "name": "ipython",
    "version": 2
   },
   "file_extension": ".py",
   "mimetype": "text/x-python",
   "name": "python",
   "nbconvert_exporter": "python",
   "pygments_lexer": "ipython2",
   "version": "2.7.12"
  }
 },
 "nbformat": 4,
 "nbformat_minor": 1
}
